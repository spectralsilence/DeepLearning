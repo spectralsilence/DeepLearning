{
 "cells": [
  {
   "cell_type": "code",
   "execution_count": 1,
   "metadata": {},
   "outputs": [],
   "source": [
    "import pandas as pd\n",
    "import numpy as np\n",
    "import json\n",
    "import nltk\n",
    "import re\n",
    "import csv\n",
    "import matplotlib.pyplot as plt \n",
    "import seaborn as sns\n",
    "import xlrd\n",
    "from tqdm import tqdm\n",
    "from sklearn.feature_extraction.text import TfidfVectorizer\n",
    "from sklearn.model_selection import train_test_split\n",
    "\n",
    "%matplotlib inline\n",
    "pd.set_option('display.max_colwidth', 300)"
   ]
  },
  {
   "cell_type": "code",
   "execution_count": 2,
   "metadata": {},
   "outputs": [
    {
     "data": {
      "text/html": [
       "<div>\n",
       "<style scoped>\n",
       "    .dataframe tbody tr th:only-of-type {\n",
       "        vertical-align: middle;\n",
       "    }\n",
       "\n",
       "    .dataframe tbody tr th {\n",
       "        vertical-align: top;\n",
       "    }\n",
       "\n",
       "    .dataframe thead th {\n",
       "        text-align: right;\n",
       "    }\n",
       "</style>\n",
       "<table border=\"1\" class=\"dataframe\">\n",
       "  <thead>\n",
       "    <tr style=\"text-align: right;\">\n",
       "      <th></th>\n",
       "      <th>imdb_title_id</th>\n",
       "      <th>title</th>\n",
       "      <th>original_title</th>\n",
       "      <th>year</th>\n",
       "      <th>date_published</th>\n",
       "      <th>genre</th>\n",
       "      <th>duration</th>\n",
       "      <th>country</th>\n",
       "      <th>language</th>\n",
       "      <th>director</th>\n",
       "      <th>...</th>\n",
       "      <th>actors</th>\n",
       "      <th>description</th>\n",
       "      <th>avg_vote</th>\n",
       "      <th>votes</th>\n",
       "      <th>budget</th>\n",
       "      <th>usa_gross_income</th>\n",
       "      <th>worlwide_gross_income</th>\n",
       "      <th>metascore</th>\n",
       "      <th>reviews_from_users</th>\n",
       "      <th>reviews_from_critics</th>\n",
       "    </tr>\n",
       "  </thead>\n",
       "  <tbody>\n",
       "    <tr>\n",
       "      <th>0</th>\n",
       "      <td>tt0099397</td>\n",
       "      <td>Defenseless</td>\n",
       "      <td>Defenseless</td>\n",
       "      <td>1991</td>\n",
       "      <td>1991-08-23 00:00:00</td>\n",
       "      <td>Mystery, Thriller</td>\n",
       "      <td>104</td>\n",
       "      <td>USA</td>\n",
       "      <td>English</td>\n",
       "      <td>Martin Campbell</td>\n",
       "      <td>...</td>\n",
       "      <td>Barbara Hershey, Sam Shepard, Mary Beth Hurt, J.T. Walsh, Kellie Overbey, Jay O. Sanders, John Kapelos, Sheree North, Randy Brooks, Christopher M. Brown, Michael Collins, George P. Wilbur, Marabina Jaimes, John Achorn, Lisa Darr</td>\n",
       "      <td>A lawyer is hired to defend an old college friend accused of murdering her husband.</td>\n",
       "      <td>5.7</td>\n",
       "      <td>630</td>\n",
       "      <td>NaN</td>\n",
       "      <td>6413375</td>\n",
       "      <td>6413375.0</td>\n",
       "      <td>NaN</td>\n",
       "      <td>9.0</td>\n",
       "      <td>7.0</td>\n",
       "    </tr>\n",
       "    <tr>\n",
       "      <th>1</th>\n",
       "      <td>tt0099399</td>\n",
       "      <td>Delta Force 2: The Colombian Connection</td>\n",
       "      <td>Delta Force 2: The Colombian Connection</td>\n",
       "      <td>1990</td>\n",
       "      <td>1990-08-24 00:00:00</td>\n",
       "      <td>Action, Adventure, Crime</td>\n",
       "      <td>111</td>\n",
       "      <td>USA</td>\n",
       "      <td>English, Spanish</td>\n",
       "      <td>Aaron Norris</td>\n",
       "      <td>...</td>\n",
       "      <td>Chuck Norris, Billy Drago, John P. Ryan, Richard Jaeckel, Begonya Plaza, Paul Perri, HÃ©ctor Mercado, Mark Margolis, Mateo GÃ³mez, Ruth de Sosa, Gerald Castillo, Geoff Brewer, Rick Prieto, Sharlene Ross, Michael Heit</td>\n",
       "      <td>When DEA agents are taken captive by a ruthless South American kingpin, the Delta Force is reunited to rescue them in this sequel to the 1986 film.</td>\n",
       "      <td>4.8</td>\n",
       "      <td>6295</td>\n",
       "      <td>NaN</td>\n",
       "      <td>6698361</td>\n",
       "      <td>6698361.0</td>\n",
       "      <td>NaN</td>\n",
       "      <td>53.0</td>\n",
       "      <td>36.0</td>\n",
       "    </tr>\n",
       "    <tr>\n",
       "      <th>2</th>\n",
       "      <td>tt0099401</td>\n",
       "      <td>Demon Wind</td>\n",
       "      <td>Demon Wind</td>\n",
       "      <td>1990</td>\n",
       "      <td>1990-07-05 00:00:00</td>\n",
       "      <td>Horror</td>\n",
       "      <td>96</td>\n",
       "      <td>USA</td>\n",
       "      <td>English</td>\n",
       "      <td>Charles Philip Moore</td>\n",
       "      <td>...</td>\n",
       "      <td>Eric Larson, Francine LapensÃ©e, Rufus Norris, Jack Vogel, Stephen Quadros, Mark David Fritsche, Sherry Leigh, Bobby Johnston, Lynn Clark, Richard Gabai, Mia M. Ruiz, Kym Santelle, Stella Kastner, Axel Toowey, Jake Jacobson</td>\n",
       "      <td>With the need to investigate the mysterious death of his grandparents, Cory and his friends assemble back to the old farm where it all began, sixty years earlier.</td>\n",
       "      <td>5.0</td>\n",
       "      <td>1852</td>\n",
       "      <td>NaN</td>\n",
       "      <td>NaN</td>\n",
       "      <td>NaN</td>\n",
       "      <td>NaN</td>\n",
       "      <td>45.0</td>\n",
       "      <td>32.0</td>\n",
       "    </tr>\n",
       "    <tr>\n",
       "      <th>3</th>\n",
       "      <td>tt0099409</td>\n",
       "      <td>Desperate Hours</td>\n",
       "      <td>Desperate Hours</td>\n",
       "      <td>1990</td>\n",
       "      <td>1990-10-05 00:00:00</td>\n",
       "      <td>Action, Crime, Drama</td>\n",
       "      <td>105</td>\n",
       "      <td>USA</td>\n",
       "      <td>English</td>\n",
       "      <td>Michael Cimino</td>\n",
       "      <td>...</td>\n",
       "      <td>Mickey Rourke, Anthony Hopkins, Mimi Rogers, Lindsay Crouse, Kelly Lynch, Elias Koteas, David Morse, Shawnee Smith, Danny Gerard, Gerry Bamman, Matt McGrath, John Christopher Jones, Dean Norris, John Finn, Christopher Curry</td>\n",
       "      <td>An escaped con, on the run from the law, moves into a married couple's house and takes over their lives.</td>\n",
       "      <td>5.4</td>\n",
       "      <td>6499</td>\n",
       "      <td>18000000</td>\n",
       "      <td>2742912</td>\n",
       "      <td>2742912.0</td>\n",
       "      <td>NaN</td>\n",
       "      <td>57.0</td>\n",
       "      <td>39.0</td>\n",
       "    </tr>\n",
       "    <tr>\n",
       "      <th>4</th>\n",
       "      <td>tt0099422</td>\n",
       "      <td>Dick Tracy</td>\n",
       "      <td>Dick Tracy</td>\n",
       "      <td>1990</td>\n",
       "      <td>1990-07-06 00:00:00</td>\n",
       "      <td>Action, Comedy, Crime</td>\n",
       "      <td>105</td>\n",
       "      <td>USA</td>\n",
       "      <td>English</td>\n",
       "      <td>Warren Beatty</td>\n",
       "      <td>...</td>\n",
       "      <td>Warren Beatty, Charlie Korsmo, Michael Donovan O'Donnell, Jim Wilkey, Stig Eldred, Neil Summers, Chuck Hicks, Lawrence Steven Meyers, William Forsythe, Ed O'Ross, Glenne Headly, Marvellee Cariaga, Michael Gallup, Seymour Cassel, James Keane</td>\n",
       "      <td>The comic strip detective finds his life vastly complicated when Breathless Mahoney makes advances towards him while he is trying to battle Big Boy Caprice's united mob.</td>\n",
       "      <td>6.1</td>\n",
       "      <td>54388</td>\n",
       "      <td>47000000</td>\n",
       "      <td>103738726</td>\n",
       "      <td>162738726.0</td>\n",
       "      <td>NaN</td>\n",
       "      <td>180.0</td>\n",
       "      <td>94.0</td>\n",
       "    </tr>\n",
       "  </tbody>\n",
       "</table>\n",
       "<p>5 rows × 22 columns</p>\n",
       "</div>"
      ],
      "text/plain": [
       "  imdb_title_id                                    title  \\\n",
       "0     tt0099397                              Defenseless   \n",
       "1     tt0099399  Delta Force 2: The Colombian Connection   \n",
       "2     tt0099401                               Demon Wind   \n",
       "3     tt0099409                          Desperate Hours   \n",
       "4     tt0099422                               Dick Tracy   \n",
       "\n",
       "                            original_title  year       date_published  \\\n",
       "0                              Defenseless  1991  1991-08-23 00:00:00   \n",
       "1  Delta Force 2: The Colombian Connection  1990  1990-08-24 00:00:00   \n",
       "2                               Demon Wind  1990  1990-07-05 00:00:00   \n",
       "3                          Desperate Hours  1990  1990-10-05 00:00:00   \n",
       "4                               Dick Tracy  1990  1990-07-06 00:00:00   \n",
       "\n",
       "                      genre  duration country          language  \\\n",
       "0         Mystery, Thriller       104     USA           English   \n",
       "1  Action, Adventure, Crime       111     USA  English, Spanish   \n",
       "2                    Horror        96     USA           English   \n",
       "3      Action, Crime, Drama       105     USA           English   \n",
       "4     Action, Comedy, Crime       105     USA           English   \n",
       "\n",
       "               director  ...  \\\n",
       "0       Martin Campbell  ...   \n",
       "1          Aaron Norris  ...   \n",
       "2  Charles Philip Moore  ...   \n",
       "3        Michael Cimino  ...   \n",
       "4         Warren Beatty  ...   \n",
       "\n",
       "                                                                                                                                                                                                                                             actors  \\\n",
       "0              Barbara Hershey, Sam Shepard, Mary Beth Hurt, J.T. Walsh, Kellie Overbey, Jay O. Sanders, John Kapelos, Sheree North, Randy Brooks, Christopher M. Brown, Michael Collins, George P. Wilbur, Marabina Jaimes, John Achorn, Lisa Darr   \n",
       "1                          Chuck Norris, Billy Drago, John P. Ryan, Richard Jaeckel, Begonya Plaza, Paul Perri, HÃ©ctor Mercado, Mark Margolis, Mateo GÃ³mez, Ruth de Sosa, Gerald Castillo, Geoff Brewer, Rick Prieto, Sharlene Ross, Michael Heit   \n",
       "2                   Eric Larson, Francine LapensÃ©e, Rufus Norris, Jack Vogel, Stephen Quadros, Mark David Fritsche, Sherry Leigh, Bobby Johnston, Lynn Clark, Richard Gabai, Mia M. Ruiz, Kym Santelle, Stella Kastner, Axel Toowey, Jake Jacobson   \n",
       "3                   Mickey Rourke, Anthony Hopkins, Mimi Rogers, Lindsay Crouse, Kelly Lynch, Elias Koteas, David Morse, Shawnee Smith, Danny Gerard, Gerry Bamman, Matt McGrath, John Christopher Jones, Dean Norris, John Finn, Christopher Curry   \n",
       "4  Warren Beatty, Charlie Korsmo, Michael Donovan O'Donnell, Jim Wilkey, Stig Eldred, Neil Summers, Chuck Hicks, Lawrence Steven Meyers, William Forsythe, Ed O'Ross, Glenne Headly, Marvellee Cariaga, Michael Gallup, Seymour Cassel, James Keane   \n",
       "\n",
       "                                                                                                                                                                 description  \\\n",
       "0                                                                                        A lawyer is hired to defend an old college friend accused of murdering her husband.   \n",
       "1                        When DEA agents are taken captive by a ruthless South American kingpin, the Delta Force is reunited to rescue them in this sequel to the 1986 film.   \n",
       "2         With the need to investigate the mysterious death of his grandparents, Cory and his friends assemble back to the old farm where it all began, sixty years earlier.   \n",
       "3                                                                   An escaped con, on the run from the law, moves into a married couple's house and takes over their lives.   \n",
       "4  The comic strip detective finds his life vastly complicated when Breathless Mahoney makes advances towards him while he is trying to battle Big Boy Caprice's united mob.   \n",
       "\n",
       "  avg_vote  votes    budget  usa_gross_income worlwide_gross_income metascore  \\\n",
       "0      5.7    630       NaN           6413375             6413375.0       NaN   \n",
       "1      4.8   6295       NaN           6698361             6698361.0       NaN   \n",
       "2      5.0   1852       NaN               NaN                   NaN       NaN   \n",
       "3      5.4   6499  18000000           2742912             2742912.0       NaN   \n",
       "4      6.1  54388  47000000         103738726           162738726.0       NaN   \n",
       "\n",
       "   reviews_from_users  reviews_from_critics  \n",
       "0                 9.0                   7.0  \n",
       "1                53.0                  36.0  \n",
       "2                45.0                  32.0  \n",
       "3                57.0                  39.0  \n",
       "4               180.0                  94.0  \n",
       "\n",
       "[5 rows x 22 columns]"
      ]
     },
     "execution_count": 2,
     "metadata": {},
     "output_type": "execute_result"
    }
   ],
   "source": [
    "# OUR DATA SET\n",
    "# Pandas is used to import one version of our dataset\n",
    "\n",
    "#meta = pd.read_excel(\"Project/CleanData.xlsx\", header = 0)\n",
    "meta = pd.read_excel(\"Project/OurData/Data_Full.xlsx\", header = 0)\n",
    "#meta = pd.read_excel(\"Project/OurData/Data_Medium.xlsx\", header = 0)\n",
    "#meta = pd.read_excel(\"Project/OurData/Data_Smallest.xlsx\", header = 0)\n",
    "meta.head()"
   ]
  },
  {
   "cell_type": "code",
   "execution_count": 3,
   "metadata": {},
   "outputs": [
    {
     "data": {
      "text/html": [
       "<div>\n",
       "<style scoped>\n",
       "    .dataframe tbody tr th:only-of-type {\n",
       "        vertical-align: middle;\n",
       "    }\n",
       "\n",
       "    .dataframe tbody tr th {\n",
       "        vertical-align: top;\n",
       "    }\n",
       "\n",
       "    .dataframe thead th {\n",
       "        text-align: right;\n",
       "    }\n",
       "</style>\n",
       "<table border=\"1\" class=\"dataframe\">\n",
       "  <thead>\n",
       "    <tr style=\"text-align: right;\">\n",
       "      <th></th>\n",
       "      <th>imdb_title_id</th>\n",
       "      <th>title</th>\n",
       "      <th>genre</th>\n",
       "      <th>description</th>\n",
       "    </tr>\n",
       "  </thead>\n",
       "  <tbody>\n",
       "    <tr>\n",
       "      <th>0</th>\n",
       "      <td>tt0099397</td>\n",
       "      <td>Defenseless</td>\n",
       "      <td>Mystery, Thriller</td>\n",
       "      <td>A lawyer is hired to defend an old college friend accused of murdering her husband.</td>\n",
       "    </tr>\n",
       "    <tr>\n",
       "      <th>1</th>\n",
       "      <td>tt0099399</td>\n",
       "      <td>Delta Force 2: The Colombian Connection</td>\n",
       "      <td>Action, Adventure, Crime</td>\n",
       "      <td>When DEA agents are taken captive by a ruthless South American kingpin, the Delta Force is reunited to rescue them in this sequel to the 1986 film.</td>\n",
       "    </tr>\n",
       "    <tr>\n",
       "      <th>2</th>\n",
       "      <td>tt0099401</td>\n",
       "      <td>Demon Wind</td>\n",
       "      <td>Horror</td>\n",
       "      <td>With the need to investigate the mysterious death of his grandparents, Cory and his friends assemble back to the old farm where it all began, sixty years earlier.</td>\n",
       "    </tr>\n",
       "    <tr>\n",
       "      <th>3</th>\n",
       "      <td>tt0099409</td>\n",
       "      <td>Desperate Hours</td>\n",
       "      <td>Action, Crime, Drama</td>\n",
       "      <td>An escaped con, on the run from the law, moves into a married couple's house and takes over their lives.</td>\n",
       "    </tr>\n",
       "    <tr>\n",
       "      <th>4</th>\n",
       "      <td>tt0099422</td>\n",
       "      <td>Dick Tracy</td>\n",
       "      <td>Action, Comedy, Crime</td>\n",
       "      <td>The comic strip detective finds his life vastly complicated when Breathless Mahoney makes advances towards him while he is trying to battle Big Boy Caprice's united mob.</td>\n",
       "    </tr>\n",
       "  </tbody>\n",
       "</table>\n",
       "</div>"
      ],
      "text/plain": [
       "  imdb_title_id                                    title  \\\n",
       "0     tt0099397                              Defenseless   \n",
       "1     tt0099399  Delta Force 2: The Colombian Connection   \n",
       "2     tt0099401                               Demon Wind   \n",
       "3     tt0099409                          Desperate Hours   \n",
       "4     tt0099422                               Dick Tracy   \n",
       "\n",
       "                      genre  \\\n",
       "0         Mystery, Thriller   \n",
       "1  Action, Adventure, Crime   \n",
       "2                    Horror   \n",
       "3      Action, Crime, Drama   \n",
       "4     Action, Comedy, Crime   \n",
       "\n",
       "                                                                                                                                                                 description  \n",
       "0                                                                                        A lawyer is hired to defend an old college friend accused of murdering her husband.  \n",
       "1                        When DEA agents are taken captive by a ruthless South American kingpin, the Delta Force is reunited to rescue them in this sequel to the 1986 film.  \n",
       "2         With the need to investigate the mysterious death of his grandparents, Cory and his friends assemble back to the old farm where it all began, sixty years earlier.  \n",
       "3                                                                   An escaped con, on the run from the law, moves into a married couple's house and takes over their lives.  \n",
       "4  The comic strip detective finds his life vastly complicated when Breathless Mahoney makes advances towards him while he is trying to battle Big Boy Caprice's united mob.  "
      ]
     },
     "execution_count": 3,
     "metadata": {},
     "output_type": "execute_result"
    }
   ],
   "source": [
    "# OUR DATA SET\n",
    "# We take out the parts of the dataset that are important for the descritpion classification and transform\n",
    "# it into a dataframe for easier access.\n",
    "\n",
    "movies = pd.DataFrame(meta[['imdb_title_id', 'title', 'genre', 'description']])\n",
    "\n",
    "movies.head()"
   ]
  },
  {
   "cell_type": "code",
   "execution_count": 4,
   "metadata": {},
   "outputs": [
    {
     "data": {
      "text/plain": [
       "((20157, 5), (20157, 5))"
      ]
     },
     "execution_count": 4,
     "metadata": {},
     "output_type": "execute_result"
    }
   ],
   "source": [
    "# OUR DATA SET\n",
    "genres = []\n",
    "\n",
    "# Perform cleanup on the genre tags and create a python list from the comma seperated list\n",
    "for i in movies['genre']:\n",
    "    genres.append(i.replace(\" \", \"\").split(','))\n",
    "    \n",
    "# add to 'movies' dataframe  \n",
    "movies['genre_new'] = genres\n",
    "\n",
    "# remove samples with 0 genre tags\n",
    "movies_new = movies[~(movies['genre_new'].str.len() == 0)]\n",
    "\n",
    "# Show the different shapes to illustrate how many samples with 0 genre tags were removed\n",
    "movies_new.shape, movies.shape"
   ]
  },
  {
   "cell_type": "code",
   "execution_count": 5,
   "metadata": {},
   "outputs": [
    {
     "data": {
      "text/plain": [
       "21"
      ]
     },
     "execution_count": 5,
     "metadata": {},
     "output_type": "execute_result"
    }
   ],
   "source": [
    "# Count how many unique genres are present in the dataset\n",
    "all_genres = sum(genres,[])\n",
    "len(set(all_genres))"
   ]
  },
  {
   "cell_type": "code",
   "execution_count": 6,
   "metadata": {},
   "outputs": [],
   "source": [
    "# Here we use NLTK to count the frequency distribution of the genre tags over the entire dataset\n",
    "all_genres = nltk.FreqDist(all_genres) \n",
    "\n",
    "# Transform the frequeny distribution into a dataframe for easier access\n",
    "all_genres_df = pd.DataFrame({'Genre': list(all_genres.keys()), \n",
    "                              'Count': list(all_genres.values())})"
   ]
  },
  {
   "cell_type": "code",
   "execution_count": 7,
   "metadata": {},
   "outputs": [
    {
     "data": {
      "image/png": "[encoded data removed]",
      "text/plain": [
       "<Figure size 864x1080 with 1 Axes>"
      ]
     },
     "metadata": {
      "needs_background": "light"
     },
     "output_type": "display_data"
    }
   ],
   "source": [
    "# We use MatPlotLib to transform the frequency distribution dataframe into a bar chart\n",
    "\n",
    "g = all_genres_df.nlargest(columns=\"Count\", n = 50) \n",
    "plt.figure(figsize=(12,15)) \n",
    "ax = sns.barplot(data=g, x= \"Count\", y = \"Genre\") \n",
    "ax.set(ylabel = 'Count') \n",
    "plt.show()"
   ]
  },
  {
   "cell_type": "code",
   "execution_count": 8,
   "metadata": {},
   "outputs": [],
   "source": [
    "# This function is created to clean up the description texts.\n",
    "\n",
    "def clean_text(text):\n",
    "    text = str(text)\n",
    "    # remove backslash-apostrophe \n",
    "    text = re.sub(\"\\'\", \"\", text) \n",
    "    # remove everything except alphabets \n",
    "    text = re.sub(\"[^a-zA-Z]\",\" \",text) \n",
    "    # remove whitespaces \n",
    "    text = ' '.join(text.split()) \n",
    "    # convert text to lowercase \n",
    "    text = text.lower() \n",
    "    \n",
    "    return text"
   ]
  },
  {
   "cell_type": "code",
   "execution_count": 9,
   "metadata": {},
   "outputs": [],
   "source": [
    "# Run the clean_text function defined above on every single movie description in the dataset\n",
    "movies_new['clean_plot'] = movies_new['description'].apply(lambda x: clean_text(x))"
   ]
  },
  {
   "cell_type": "code",
   "execution_count": 10,
   "metadata": {},
   "outputs": [
    {
     "data": {
      "text/html": [
       "<div>\n",
       "<style scoped>\n",
       "    .dataframe tbody tr th:only-of-type {\n",
       "        vertical-align: middle;\n",
       "    }\n",
       "\n",
       "    .dataframe tbody tr th {\n",
       "        vertical-align: top;\n",
       "    }\n",
       "\n",
       "    .dataframe thead th {\n",
       "        text-align: right;\n",
       "    }\n",
       "</style>\n",
       "<table border=\"1\" class=\"dataframe\">\n",
       "  <thead>\n",
       "    <tr style=\"text-align: right;\">\n",
       "      <th></th>\n",
       "      <th>imdb_title_id</th>\n",
       "      <th>title</th>\n",
       "      <th>genre</th>\n",
       "      <th>description</th>\n",
       "      <th>genre_new</th>\n",
       "      <th>clean_plot</th>\n",
       "    </tr>\n",
       "  </thead>\n",
       "  <tbody>\n",
       "    <tr>\n",
       "      <th>0</th>\n",
       "      <td>tt0099397</td>\n",
       "      <td>Defenseless</td>\n",
       "      <td>Mystery, Thriller</td>\n",
       "      <td>A lawyer is hired to defend an old college friend accused of murdering her husband.</td>\n",
       "      <td>[Mystery, Thriller]</td>\n",
       "      <td>a lawyer is hired to defend an old college friend accused of murdering her husband</td>\n",
       "    </tr>\n",
       "    <tr>\n",
       "      <th>1</th>\n",
       "      <td>tt0099399</td>\n",
       "      <td>Delta Force 2: The Colombian Connection</td>\n",
       "      <td>Action, Adventure, Crime</td>\n",
       "      <td>When DEA agents are taken captive by a ruthless South American kingpin, the Delta Force is reunited to rescue them in this sequel to the 1986 film.</td>\n",
       "      <td>[Action, Adventure, Crime]</td>\n",
       "      <td>when dea agents are taken captive by a ruthless south american kingpin the delta force is reunited to rescue them in this sequel to the film</td>\n",
       "    </tr>\n",
       "    <tr>\n",
       "      <th>2</th>\n",
       "      <td>tt0099401</td>\n",
       "      <td>Demon Wind</td>\n",
       "      <td>Horror</td>\n",
       "      <td>With the need to investigate the mysterious death of his grandparents, Cory and his friends assemble back to the old farm where it all began, sixty years earlier.</td>\n",
       "      <td>[Horror]</td>\n",
       "      <td>with the need to investigate the mysterious death of his grandparents cory and his friends assemble back to the old farm where it all began sixty years earlier</td>\n",
       "    </tr>\n",
       "    <tr>\n",
       "      <th>3</th>\n",
       "      <td>tt0099409</td>\n",
       "      <td>Desperate Hours</td>\n",
       "      <td>Action, Crime, Drama</td>\n",
       "      <td>An escaped con, on the run from the law, moves into a married couple's house and takes over their lives.</td>\n",
       "      <td>[Action, Crime, Drama]</td>\n",
       "      <td>an escaped con on the run from the law moves into a married couples house and takes over their lives</td>\n",
       "    </tr>\n",
       "    <tr>\n",
       "      <th>4</th>\n",
       "      <td>tt0099422</td>\n",
       "      <td>Dick Tracy</td>\n",
       "      <td>Action, Comedy, Crime</td>\n",
       "      <td>The comic strip detective finds his life vastly complicated when Breathless Mahoney makes advances towards him while he is trying to battle Big Boy Caprice's united mob.</td>\n",
       "      <td>[Action, Comedy, Crime]</td>\n",
       "      <td>the comic strip detective finds his life vastly complicated when breathless mahoney makes advances towards him while he is trying to battle big boy caprices united mob</td>\n",
       "    </tr>\n",
       "  </tbody>\n",
       "</table>\n",
       "</div>"
      ],
      "text/plain": [
       "  imdb_title_id                                    title  \\\n",
       "0     tt0099397                              Defenseless   \n",
       "1     tt0099399  Delta Force 2: The Colombian Connection   \n",
       "2     tt0099401                               Demon Wind   \n",
       "3     tt0099409                          Desperate Hours   \n",
       "4     tt0099422                               Dick Tracy   \n",
       "\n",
       "                      genre  \\\n",
       "0         Mystery, Thriller   \n",
       "1  Action, Adventure, Crime   \n",
       "2                    Horror   \n",
       "3      Action, Crime, Drama   \n",
       "4     Action, Comedy, Crime   \n",
       "\n",
       "                                                                                                                                                                 description  \\\n",
       "0                                                                                        A lawyer is hired to defend an old college friend accused of murdering her husband.   \n",
       "1                        When DEA agents are taken captive by a ruthless South American kingpin, the Delta Force is reunited to rescue them in this sequel to the 1986 film.   \n",
       "2         With the need to investigate the mysterious death of his grandparents, Cory and his friends assemble back to the old farm where it all began, sixty years earlier.   \n",
       "3                                                                   An escaped con, on the run from the law, moves into a married couple's house and takes over their lives.   \n",
       "4  The comic strip detective finds his life vastly complicated when Breathless Mahoney makes advances towards him while he is trying to battle Big Boy Caprice's united mob.   \n",
       "\n",
       "                    genre_new  \\\n",
       "0         [Mystery, Thriller]   \n",
       "1  [Action, Adventure, Crime]   \n",
       "2                    [Horror]   \n",
       "3      [Action, Crime, Drama]   \n",
       "4     [Action, Comedy, Crime]   \n",
       "\n",
       "                                                                                                                                                                clean_plot  \n",
       "0                                                                                       a lawyer is hired to defend an old college friend accused of murdering her husband  \n",
       "1                             when dea agents are taken captive by a ruthless south american kingpin the delta force is reunited to rescue them in this sequel to the film  \n",
       "2          with the need to investigate the mysterious death of his grandparents cory and his friends assemble back to the old farm where it all began sixty years earlier  \n",
       "3                                                                     an escaped con on the run from the law moves into a married couples house and takes over their lives  \n",
       "4  the comic strip detective finds his life vastly complicated when breathless mahoney makes advances towards him while he is trying to battle big boy caprices united mob  "
      ]
     },
     "execution_count": 10,
     "metadata": {},
     "output_type": "execute_result"
    }
   ],
   "source": [
    "# Show a preview of the dataset after cleaning up the movie descriptions\n",
    "movies_new.head()"
   ]
  },
  {
   "cell_type": "code",
   "execution_count": 11,
   "metadata": {},
   "outputs": [
    {
     "data": {
      "image/png": "[encoded data removed]",
      "text/plain": [
       "<Figure size 864x1080 with 1 Axes>"
      ]
     },
     "metadata": {
      "needs_background": "light"
     },
     "output_type": "display_data"
    }
   ],
   "source": [
    "# This function takes a column from the dataset and counts how many times each term is present.\n",
    "# It then shows the top 'terms' most common words\n",
    "def freq_words(x, terms = 30): \n",
    "  all_words = ' '.join([text for text in x]) \n",
    "  all_words = all_words.split() \n",
    "  fdist = nltk.FreqDist(all_words) \n",
    "  words_df = pd.DataFrame({'word':list(fdist.keys()), 'count':list(fdist.values())}) \n",
    "  \n",
    "  # selecting top 'terms' most frequent words \n",
    "  d = words_df.nlargest(columns=\"count\", n = terms) \n",
    "  \n",
    "  # visualize words and frequencies\n",
    "  plt.figure(figsize=(12,15)) \n",
    "  ax = sns.barplot(data=d, x= \"count\", y = \"word\") \n",
    "  ax.set(ylabel = 'Word') \n",
    "  plt.show()\n",
    "  \n",
    "# Use the above function to print the top 100 words in the 'clean_plot' column\n",
    "freq_words(movies_new['clean_plot'], 100)"
   ]
  },
  {
   "cell_type": "code",
   "execution_count": 12,
   "metadata": {},
   "outputs": [
    {
     "name": "stdout",
     "output_type": "stream",
     "text": [
      "{'him', 'to', 'now', 'once', 'itself', 'over', 'you', 'so', 'couldn', 'didn', 'doesn', 'of', 'all', \"doesn't\", 'myself', 'if', \"couldn't\", 'a', 'aren', 'our', 'can', 'those', 'ourselves', 'having', 'which', 'further', 'there', 'few', 'ain', 'before', 'down', 'been', 'out', 'whom', 'are', 'hers', 's', 'yourself', 'up', 'its', \"should've\", 'we', 'after', 'should', 'for', 'too', 'into', 'than', \"you've\", 'here', 'their', 'own', 'doing', 'his', 'the', 'shouldn', 'who', \"mustn't\", 'o', 'or', 'where', \"shan't\", \"haven't\", 'in', \"she's\", \"hadn't\", 'then', 'herself', 'shan', 'very', 'it', 'above', 'some', 'what', \"that'll\", 'each', \"didn't\", \"needn't\", 'just', 'these', 'am', 'during', \"you'll\", 'ma', 'does', 'by', 'from', 'any', \"wouldn't\", 'because', 'do', 'himself', 'them', 'but', 'that', 'nor', 'have', \"mightn't\", 'ours', 'and', 'weren', 'other', 'haven', 'was', 'below', 'yourselves', 'off', 'mightn', 'he', 'me', 'wasn', 'has', 'did', \"it's\", 'at', 'isn', 'm', 'i', 'not', \"weren't\", 'under', 've', 'she', 'as', 'with', 'between', \"hasn't\", 'had', 'themselves', 'this', 'were', 'd', 'hadn', 'how', 'her', 'same', 'mustn', 'they', 'on', 'again', 'yours', \"you'd\", 'hasn', 'is', 're', 'about', 'being', \"wasn't\", 'both', 't', 'theirs', 'why', \"don't\", \"isn't\", 'until', \"shouldn't\", 'an', 'won', 'your', 'most', 'y', 'wouldn', \"won't\", 'll', 'my', 'such', 'more', 'will', \"you're\", 'needn', 'against', 'only', 'don', 'be', 'no', 'while', 'through', \"aren't\", 'when'}\n"
     ]
    },
    {
     "name": "stderr",
     "output_type": "stream",
     "text": [
      "[nltk_data] Downloading package stopwords to /home/jknol/nltk_data...\n",
      "[nltk_data]   Package stopwords is already up-to-date!\n"
     ]
    }
   ],
   "source": [
    "# Download the latest version of the stopwords list from NLTK\n",
    "nltk.download('stopwords')\n",
    "\n",
    "# Import the stopwords object that holds the list of stopwords\n",
    "from nltk.corpus import stopwords\n",
    "stop_words = set(stopwords.words('english'))\n",
    "\n",
    "# Print the list of stopwords\n",
    "print(stop_words)\n",
    "\n",
    "# function to remove stopwords\n",
    "def remove_stopwords(text):\n",
    "    no_stopword_text = [w for w in text.split() if not w in stop_words]\n",
    "    return ' '.join(no_stopword_text)\n",
    "\n",
    "# Use the above function to remove all stopwords from the 'clean_plot' column in the dataset\n",
    "movies_new['clean_plot'] = movies_new['clean_plot'].apply(lambda x: remove_stopwords(x))"
   ]
  },
  {
   "cell_type": "code",
   "execution_count": 13,
   "metadata": {},
   "outputs": [
    {
     "data": {
      "image/png": "[encoded data removed]",
      "text/plain": [
       "<Figure size 864x1080 with 1 Axes>"
      ]
     },
     "metadata": {
      "needs_background": "light"
     },
     "output_type": "display_data"
    }
   ],
   "source": [
    "# Show the frequency distribution in the 'clean_plot' column again. This time after stopwords removal\n",
    "freq_words(movies_new['clean_plot'], 100)"
   ]
  },
  {
   "cell_type": "code",
   "execution_count": 14,
   "metadata": {},
   "outputs": [],
   "source": [
    "# Create a MultilabelBinarizer that will hold the binary values for the genre predictions outcomes\n",
    "from sklearn.preprocessing import MultiLabelBinarizer\n",
    "\n",
    "multilabel_binarizer = MultiLabelBinarizer()\n",
    "multilabel_binarizer.fit(movies_new['genre_new'])\n",
    "\n",
    "# transform target variable\n",
    "y = multilabel_binarizer.transform(movies_new['genre_new'])"
   ]
  },
  {
   "cell_type": "code",
   "execution_count": 15,
   "metadata": {},
   "outputs": [],
   "source": [
    "# Create the tfidfVectorizer to inversely offset the amount of times a term occurs in a single\n",
    "# description against the amount of times that word occurs in any description.\n",
    "tfidf_vectorizer = TfidfVectorizer(max_df=0.8, max_features=10000)\n",
    "\n",
    "# split dataset into training and validation set\n",
    "xtrain, xval, ytrain, yval = train_test_split(movies_new['clean_plot'], y, test_size=0.2, random_state=9)\n",
    "\n",
    "# create TF-IDF features\n",
    "xtrain_tfidf = tfidf_vectorizer.fit_transform(xtrain)\n",
    "xval_tfidf = tfidf_vectorizer.transform(xval)"
   ]
  },
  {
   "cell_type": "code",
   "execution_count": 16,
   "metadata": {},
   "outputs": [],
   "source": [
    "from sklearn.linear_model import LogisticRegression\n",
    "\n",
    "# Binary Relevance\n",
    "from sklearn.multiclass import OneVsRestClassifier\n",
    "\n",
    "# Performance metric\n",
    "from sklearn.metrics import f1_score, accuracy_score, recall_score, precision_score, precision_recall_fscore_support"
   ]
  },
  {
   "cell_type": "code",
   "execution_count": 17,
   "metadata": {},
   "outputs": [
    {
     "data": {
      "text/plain": [
       "OneVsRestClassifier(estimator=LogisticRegression(C=1.0, class_weight=None,\n",
       "                                                 dual=False, fit_intercept=True,\n",
       "                                                 intercept_scaling=1,\n",
       "                                                 l1_ratio=None, max_iter=100,\n",
       "                                                 multi_class='auto',\n",
       "                                                 n_jobs=None, penalty='l2',\n",
       "                                                 random_state=None,\n",
       "                                                 solver='lbfgs', tol=0.0001,\n",
       "                                                 verbose=0, warm_start=False),\n",
       "                    n_jobs=None)"
      ]
     },
     "execution_count": 17,
     "metadata": {},
     "output_type": "execute_result"
    }
   ],
   "source": [
    "lr = LogisticRegression()\n",
    "clf = OneVsRestClassifier(lr)\n",
    "\n",
    "# fit model on train data\n",
    "clf.fit(xtrain_tfidf, ytrain)"
   ]
  },
  {
   "cell_type": "code",
   "execution_count": 18,
   "metadata": {},
   "outputs": [],
   "source": [
    "# make predictions for validation set\n",
    "y_pred = clf.predict(xval_tfidf)"
   ]
  },
  {
   "cell_type": "code",
   "execution_count": 19,
   "metadata": {},
   "outputs": [
    {
     "name": "stdout",
     "output_type": "stream",
     "text": [
      "0.4197048949957062\n"
     ]
    }
   ],
   "source": [
    "# evaluate performance\n",
    "print(f1_score(yval, y_pred, average=\"micro\"))"
   ]
  },
  {
   "cell_type": "code",
   "execution_count": 20,
   "metadata": {},
   "outputs": [],
   "source": [
    "# predict probabilities (with standard threshold value of 0.5)\n",
    "y_pred_prob = clf.predict_proba(xval_tfidf)"
   ]
  },
  {
   "cell_type": "code",
   "execution_count": 21,
   "metadata": {},
   "outputs": [],
   "source": [
    "# Predict probabilities with a different threshold value\n",
    "t = 0.3 # threshold value (hyperparameter)\n",
    "y_pred_new = (y_pred_prob >= t).astype(int)"
   ]
  },
  {
   "cell_type": "code",
   "execution_count": 22,
   "metadata": {},
   "outputs": [
    {
     "name": "stdout",
     "output_type": "stream",
     "text": [
      "0.544570873120247\n"
     ]
    }
   ],
   "source": [
    "# evaluate performance\n",
    "print(f1_score(yval, y_pred_new, average=\"micro\"))"
   ]
  },
  {
   "cell_type": "code",
   "execution_count": 23,
   "metadata": {},
   "outputs": [
    {
     "name": "stdout",
     "output_type": "stream",
     "text": [
      "0.1 gave an f1-score of 0.47327373026440933, an accuracy of 0.008680555555555556, a precision of 0.33052873970418917, and a recall of 0.8330357142857143\n",
      "0.2 gave an f1-score of 0.5490468258374976, an accuracy of 0.06001984126984127, a precision of 0.4689377173569396, and a recall of 0.6621651785714285\n",
      "0.3 gave an f1-score of 0.544570873120247, an accuracy of 0.10590277777777778, a precision of 0.5583304021573455, and a recall of 0.5314732142857143\n",
      "0.4 gave an f1-score of 0.49895601805078454, an accuracy of 0.125, a precision of 0.6291829454730763, and a recall of 0.4133928571428571\n",
      "0.5 gave an f1-score of 0.4197048949957062, an accuracy of 0.11755952380952381, a precision of 0.6983632112236945, and a recall of 0.3\n",
      "0.6 gave an f1-score of 0.31058990760483296, an accuracy of 0.08308531746031746, a precision of 0.7613240418118467, and a recall of 0.19508928571428572\n",
      "0.7 gave an f1-score of 0.1863550846618477, an accuracy of 0.051835317460317464, a precision of 0.8261633011413521, and a recall of 0.10502232142857143\n",
      "0.8 gave an f1-score of 0.07707087959009394, an accuracy of 0.02132936507936508, a precision of 0.8848039215686274, and a recall of 0.040290178571428574\n",
      "0.5490468258374976 was the best score, achieved with a threshold of 0.2\n"
     ]
    }
   ],
   "source": [
    "# Cross validate multiple threshold values and print performance parameters\n",
    "t_values = [0.1, 0.2, 0.3, 0.4, 0.5, 0.6, 0.7, 0.8]\n",
    "best_t = 0\n",
    "best_score = 0\n",
    "for t_val in t_values:\n",
    "    y_pred_new = (y_pred_prob >= t_val).astype(int)\n",
    "    score = f1_score(y_true=yval, y_pred=y_pred_new, average=\"micro\")\n",
    "    accuracy = accuracy_score(yval, y_pred_new, normalize=True)\n",
    "    precision = precision_score(yval, y_pred_new, average=\"micro\")\n",
    "    recall = recall_score(yval, y_pred_new, average=\"micro\")\n",
    "    print(\"{} gave an f1-score of {}, an accuracy of {}, a precision of {}, and a recall of {}\".format(t_val, score, accuracy, precision, recall))\n",
    "    if score > best_score:\n",
    "        best_t = t_val\n",
    "        best_score = score\n",
    "print(\"{} was the best score, achieved with a threshold of {}\".format(best_score, best_t))"
   ]
  },
  {
   "cell_type": "code",
   "execution_count": 24,
   "metadata": {},
   "outputs": [],
   "source": [
    "# Function that takes a string value and returns a list of genre predictions based on the given text\n",
    "def infer_tags(q):\n",
    "    q = clean_text(q)\n",
    "    q = remove_stopwords(q)\n",
    "    q_vec = tfidf_vectorizer.transform([q])\n",
    "    q_pred = clf.predict(q_vec)\n",
    "    return multilabel_binarizer.inverse_transform(q_pred)"
   ]
  },
  {
   "cell_type": "code",
   "execution_count": 25,
   "metadata": {},
   "outputs": [
    {
     "data": {
      "text/html": [
       "<div>\n",
       "<style scoped>\n",
       "    .dataframe tbody tr th:only-of-type {\n",
       "        vertical-align: middle;\n",
       "    }\n",
       "\n",
       "    .dataframe tbody tr th {\n",
       "        vertical-align: top;\n",
       "    }\n",
       "\n",
       "    .dataframe thead th {\n",
       "        text-align: right;\n",
       "    }\n",
       "</style>\n",
       "<table border=\"1\" class=\"dataframe\">\n",
       "  <thead>\n",
       "    <tr style=\"text-align: right;\">\n",
       "      <th></th>\n",
       "      <th>imdb_title_id</th>\n",
       "      <th>title</th>\n",
       "      <th>genre</th>\n",
       "      <th>description</th>\n",
       "      <th>genre_new</th>\n",
       "      <th>clean_plot</th>\n",
       "    </tr>\n",
       "  </thead>\n",
       "  <tbody>\n",
       "    <tr>\n",
       "      <th>0</th>\n",
       "      <td>tt0099397</td>\n",
       "      <td>Defenseless</td>\n",
       "      <td>Mystery, Thriller</td>\n",
       "      <td>A lawyer is hired to defend an old college friend accused of murdering her husband.</td>\n",
       "      <td>[Mystery, Thriller]</td>\n",
       "      <td>lawyer hired defend old college friend accused murdering husband</td>\n",
       "    </tr>\n",
       "    <tr>\n",
       "      <th>1</th>\n",
       "      <td>tt0099399</td>\n",
       "      <td>Delta Force 2: The Colombian Connection</td>\n",
       "      <td>Action, Adventure, Crime</td>\n",
       "      <td>When DEA agents are taken captive by a ruthless South American kingpin, the Delta Force is reunited to rescue them in this sequel to the 1986 film.</td>\n",
       "      <td>[Action, Adventure, Crime]</td>\n",
       "      <td>dea agents taken captive ruthless south american kingpin delta force reunited rescue sequel film</td>\n",
       "    </tr>\n",
       "    <tr>\n",
       "      <th>2</th>\n",
       "      <td>tt0099401</td>\n",
       "      <td>Demon Wind</td>\n",
       "      <td>Horror</td>\n",
       "      <td>With the need to investigate the mysterious death of his grandparents, Cory and his friends assemble back to the old farm where it all began, sixty years earlier.</td>\n",
       "      <td>[Horror]</td>\n",
       "      <td>need investigate mysterious death grandparents cory friends assemble back old farm began sixty years earlier</td>\n",
       "    </tr>\n",
       "    <tr>\n",
       "      <th>3</th>\n",
       "      <td>tt0099409</td>\n",
       "      <td>Desperate Hours</td>\n",
       "      <td>Action, Crime, Drama</td>\n",
       "      <td>An escaped con, on the run from the law, moves into a married couple's house and takes over their lives.</td>\n",
       "      <td>[Action, Crime, Drama]</td>\n",
       "      <td>escaped con run law moves married couples house takes lives</td>\n",
       "    </tr>\n",
       "    <tr>\n",
       "      <th>4</th>\n",
       "      <td>tt0099422</td>\n",
       "      <td>Dick Tracy</td>\n",
       "      <td>Action, Comedy, Crime</td>\n",
       "      <td>The comic strip detective finds his life vastly complicated when Breathless Mahoney makes advances towards him while he is trying to battle Big Boy Caprice's united mob.</td>\n",
       "      <td>[Action, Comedy, Crime]</td>\n",
       "      <td>comic strip detective finds life vastly complicated breathless mahoney makes advances towards trying battle big boy caprices united mob</td>\n",
       "    </tr>\n",
       "  </tbody>\n",
       "</table>\n",
       "</div>"
      ],
      "text/plain": [
       "  imdb_title_id                                    title  \\\n",
       "0     tt0099397                              Defenseless   \n",
       "1     tt0099399  Delta Force 2: The Colombian Connection   \n",
       "2     tt0099401                               Demon Wind   \n",
       "3     tt0099409                          Desperate Hours   \n",
       "4     tt0099422                               Dick Tracy   \n",
       "\n",
       "                      genre  \\\n",
       "0         Mystery, Thriller   \n",
       "1  Action, Adventure, Crime   \n",
       "2                    Horror   \n",
       "3      Action, Crime, Drama   \n",
       "4     Action, Comedy, Crime   \n",
       "\n",
       "                                                                                                                                                                 description  \\\n",
       "0                                                                                        A lawyer is hired to defend an old college friend accused of murdering her husband.   \n",
       "1                        When DEA agents are taken captive by a ruthless South American kingpin, the Delta Force is reunited to rescue them in this sequel to the 1986 film.   \n",
       "2         With the need to investigate the mysterious death of his grandparents, Cory and his friends assemble back to the old farm where it all began, sixty years earlier.   \n",
       "3                                                                   An escaped con, on the run from the law, moves into a married couple's house and takes over their lives.   \n",
       "4  The comic strip detective finds his life vastly complicated when Breathless Mahoney makes advances towards him while he is trying to battle Big Boy Caprice's united mob.   \n",
       "\n",
       "                    genre_new  \\\n",
       "0         [Mystery, Thriller]   \n",
       "1  [Action, Adventure, Crime]   \n",
       "2                    [Horror]   \n",
       "3      [Action, Crime, Drama]   \n",
       "4     [Action, Comedy, Crime]   \n",
       "\n",
       "                                                                                                                                clean_plot  \n",
       "0                                                                         lawyer hired defend old college friend accused murdering husband  \n",
       "1                                         dea agents taken captive ruthless south american kingpin delta force reunited rescue sequel film  \n",
       "2                             need investigate mysterious death grandparents cory friends assemble back old farm began sixty years earlier  \n",
       "3                                                                              escaped con run law moves married couples house takes lives  \n",
       "4  comic strip detective finds life vastly complicated breathless mahoney makes advances towards trying battle big boy caprices united mob  "
      ]
     },
     "execution_count": 25,
     "metadata": {},
     "output_type": "execute_result"
    }
   ],
   "source": [
    "movies_new.head()"
   ]
  },
  {
   "cell_type": "code",
   "execution_count": 26,
   "metadata": {},
   "outputs": [
    {
     "name": "stdout",
     "output_type": "stream",
     "text": [
      "Movie:  Ellie Parker \n",
      "Predicted genre:  [('Comedy', 'Drama')]\n",
      "Actual genre:  ['Comedy', 'Drama'] \n",
      "\n",
      "Movie:  West Point of the Air \n",
      "Predicted genre:  [('Drama',)]\n",
      "Actual genre:  ['Drama'] \n",
      "\n",
      "Movie:  Day of the Woman \n",
      "Predicted genre:  [()]\n",
      "Actual genre:  ['Horror', 'Thriller'] \n",
      "\n",
      "Movie:  Sleuth \n",
      "Predicted genre:  [('Comedy', 'Drama')]\n",
      "Actual genre:  ['Crime', 'Drama', 'Mystery'] \n",
      "\n",
      "Movie:  Back by Midnight \n",
      "Predicted genre:  [('Crime', 'Drama')]\n",
      "Actual genre:  ['Comedy'] \n",
      "\n"
     ]
    }
   ],
   "source": [
    "# Use the above 'infer_tags' function to output the prediction for 5 random movies in the validation set\n",
    "for i in range(5): \n",
    "  k = xval.sample(1).index[0] \n",
    "  print(\"Movie: \", movies_new['title'][k], \"\\nPredicted genre: \", infer_tags(xval[k])), print(\"Actual genre: \",movies_new['genre_new'][k], \"\\n\")"
   ]
  },
  {
   "cell_type": "code",
   "execution_count": 27,
   "metadata": {},
   "outputs": [
    {
     "name": "stdout",
     "output_type": "stream",
     "text": [
      "Now trying t_val=0.1\n",
      "Size of test set: 4032\n",
      "Perfect matches: 35\n",
      "Positive accuracy: 0.34722665107709805\n",
      "Flat accuracy: 0.803784013605432\n",
      "F1-Score: 0.47327373026440933\n",
      "=============================================================================\n",
      "Now trying t_val=0.2\n",
      "Size of test set: 4032\n",
      "Perfect matches: 242\n",
      "Positive accuracy: 0.46292635109599234\n",
      "Flat accuracy: 0.8848970143612755\n",
      "F1-Score: 0.5490468258374976\n",
      "=============================================================================\n",
      "Now trying t_val=0.3\n",
      "Size of test set: 4032\n",
      "Perfect matches: 427\n",
      "Positive accuracy: 0.46262400793650504\n",
      "Flat accuracy: 0.9059311224489498\n",
      "F1-Score: 0.544570873120247\n"
     ]
    },
    {
     "name": "stderr",
     "output_type": "stream",
     "text": [
      "/home/jknol/.conda/envs/JamesNLP/lib/python3.6/site-packages/sklearn/metrics/_classification.py:1272: UndefinedMetricWarning: Precision and F-score are ill-defined and being set to 0.0 in labels with no predicted samples. Use `zero_division` parameter to control this behavior.\n",
      "  _warn_prf(average, modifier, msg_start, len(result))\n"
     ]
    },
    {
     "name": "stdout",
     "output_type": "stream",
     "text": [
      "=============================================================================\n",
      "Now trying t_val=0.4\n",
      "Size of test set: 4032\n",
      "Perfect matches: 504\n",
      "Positive accuracy: 0.40670469576719287\n",
      "Flat accuracy: 0.912143329554014\n",
      "F1-Score: 0.49895601805078454\n",
      "=============================================================================\n",
      "Now trying t_val=0.5\n",
      "Size of test set: 4032\n",
      "Perfect matches: 474\n",
      "Positive accuracy: 0.32049851190476136\n",
      "Flat accuracy: 0.9122141912320179\n",
      "F1-Score: 0.4197048949957062\n",
      "=============================================================================\n",
      "Now trying t_val=0.6\n",
      "Size of test set: 4032\n",
      "Perfect matches: 335\n",
      "Positive accuracy: 0.21775793650793815\n",
      "Flat accuracy: 0.9083522297807647\n",
      "F1-Score: 0.31058990760483296\n",
      "=============================================================================\n",
      "Now trying t_val=0.7\n",
      "Size of test set: 4032\n",
      "Perfect matches: 209\n",
      "Positive accuracy: 0.12148644179894111\n",
      "Flat accuracy: 0.9029549319727492\n",
      "F1-Score: 0.1863550846618477\n",
      "=============================================================================\n",
      "Now trying t_val=0.8\n",
      "Size of test set: 4032\n",
      "Perfect matches: 86\n",
      "Positive accuracy: 0.04856977513227521\n",
      "Flat accuracy: 0.8978883219954205\n",
      "F1-Score: 0.07707087959009394\n",
      "=============================================================================\n"
     ]
    }
   ],
   "source": [
    "tags = {list(all_genres.keys())[i]: i for i in range(len(list(all_genres.keys())))}\n",
    "t_values = [0.1, 0.2, 0.3, 0.4, 0.5, 0.6, 0.7, 0.8]\n",
    "\n",
    "# Calculate the performance of the model in terms of F1-score, flat accuracy, positive accuracy and perfect matches\n",
    "# These metrics are used in the other parts of our project.\n",
    "# This loop prints out the performance metrices across different values for t(hreshold).\n",
    "for t_val in t_values:\n",
    "    print(\"Now trying t_val={}\".format(t_val))\n",
    "    y_pred_new = (y_pred_prob >= t_val).astype(int)\n",
    "\n",
    "    # do a comparison\n",
    "    predictions = []\n",
    "    for i in y_pred_new:\n",
    "        predictions.append(i.tolist())\n",
    "\n",
    "    true_labels = []\n",
    "    for i in yval:\n",
    "        true_labels.append(i.astype(int).flatten().tolist())\n",
    "\n",
    "    accuracy = 0\n",
    "    positive_accuracy = 0\n",
    "    perfect_matches = 0\n",
    "    num_samples = len(true_labels)\n",
    "    for i in range(num_samples):\n",
    "        if true_labels[i] == predictions[i]:\n",
    "            accuracy += 1\n",
    "            positive_accuracy += 1\n",
    "            perfect_matches += 1\n",
    "        else:\n",
    "            # positive accuracy\n",
    "            # num correct over max(num_guessed, num_true)\n",
    "            positive_accuracy += np.sum(2*np.array(true_labels[i])-1==np.array(predictions[i])) / max(np.sum(true_labels[i]), sum(predictions[i]))\n",
    "\n",
    "            # flat accuracy\n",
    "            accuracy += np.sum(np.array(true_labels[i])==np.array(predictions[i])) / len(true_labels[i])\n",
    "\n",
    "    preds = np.array(predictions)\n",
    "    true_labels = np.array(true_labels)\n",
    "\n",
    "    print(\"Size of test set:\", len(true_labels))\n",
    "    print(\"Perfect matches: {}\".format(perfect_matches))\n",
    "    print(\"Positive accuracy:\", positive_accuracy/num_samples)\n",
    "    print(\"Flat accuracy:\", accuracy/num_samples)\n",
    "    print(\"F1-Score: {}\".format(f1_score(y_true=yval, y_pred=y_pred_new, average=\"micro\")))\n",
    "\n",
    "    stats = precision_recall_fscore_support(y_pred=preds, y_true=true_labels, average=None, labels=range(len(tags)))\n",
    "    stats = np.array(stats)\n",
    "\n",
    "    #for t in tags:\n",
    "    #    print(tags[t], t, stats[:, tags[t]])\n",
    "        \n",
    "    print(\"=============================================================================\")\n"
   ]
  },
  {
   "cell_type": "code",
   "execution_count": 28,
   "metadata": {},
   "outputs": [
    {
     "data": {
      "text/plain": [
       "[('Drama',)]"
      ]
     },
     "execution_count": 28,
     "metadata": {},
     "output_type": "execute_result"
    }
   ],
   "source": [
    "# A test output that shows the usage of the 'infer_tags' function on a randomly chosen description from the IMDb website.\n",
    "infer_tags(\"Following the events of Avengers: Endgame (2019), Spider-Man must step up to take on new threats in a world that has changed forever.\")"
   ]
  }
 ],
 "metadata": {
  "kernelspec": {
   "display_name": "Python [conda env:.conda-JamesNLP]",
   "language": "python",
   "name": "conda-env-.conda-JamesNLP-py"
  },
  "language_info": {
   "codemirror_mode": {
    "name": "ipython",
    "version": 3
   },
   "file_extension": ".py",
   "mimetype": "text/x-python",
   "name": "python",
   "nbconvert_exporter": "python",
   "pygments_lexer": "ipython3",
   "version": "3.6.10"
  }
 },
 "nbformat": 4,
 "nbformat_minor": 4
}
